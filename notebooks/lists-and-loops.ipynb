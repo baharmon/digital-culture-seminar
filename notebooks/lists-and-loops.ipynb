{
 "cells": [
  {
   "cell_type": "markdown",
   "metadata": {},
   "source": [
    "# Lists and Loops"
   ]
  },
  {
   "cell_type": "markdown",
   "metadata": {},
   "source": [
    "Today we will use **print statements**, **variables**,\n",
    "**randomness**, **lists**, and **loops**\n",
    "to write simple sentences."
   ]
  },
  {
   "cell_type": "markdown",
   "metadata": {},
   "source": [
    "## Lists\n",
    "First we will write a list of nouns,\n",
    "a list of verbs, a list of adjectives, and a list of adverbs.\n",
    "Then we will use a random selection of these words to\n",
    "computationally compose a sentence."
   ]
  },
  {
   "cell_type": "code",
   "execution_count": 1,
   "metadata": {
    "scrolled": true
   },
   "outputs": [
    {
     "name": "stdout",
     "output_type": "stream",
     "text": [
      "The sleepy alien daintily roared.\n"
     ]
    }
   ],
   "source": [
    "import random\n",
    "\n",
    "# set the random seed\n",
    "random.seed()\n",
    "\n",
    "# lists of words\n",
    "nouns = [\"emjoi\", \"unicorn\", \"sloth\", \"robot\", \"alien\", \"lolcat\", \"python\", \"bug\", \"flying saucer\", \"moon\", \"sorcerors apprentice\"]\n",
    "verbs = [\"laughed out loud\", \"rolled on the floor laughing\", \"slept\", \"read\", \"declaimed\", \"roared\", \"glittered\"]\n",
    "adjectives = [\"giant\", \"raucous\", \"playful\", \"sparkling\", \"sleepy\", \"scornful\", \"arrogant\", \"stealthy\", \"mechanical\", \"magical\", \"ancient\"]\n",
    "adverbs = [\"loudly\", \"silently\", \"playfully\", \"sneakily\", \"proudly\", \"tearfully\", \"mindfully\", \"boldly\", \"gently\", \"disdainfully\", \"daintily\", \"patiently\"]\n",
    "\n",
    "# select random words from lists\n",
    "noun = random.choice(nouns)\n",
    "verb = random.choice(verbs)\n",
    "adjective = random.choice(adjectives)\n",
    "adverb = random.choice(adverbs)\n",
    "\n",
    "# print a sentence with random words from the lists\n",
    "print \"The {adjective} {noun} {adverb} {verb}.\".format(adjective=adjective, noun=noun, adverb=adverb, verb=verb)"
   ]
  },
  {
   "cell_type": "markdown",
   "metadata": {},
   "source": [
    "## Loops\n",
    "First we will randomly shuffle our adjectives.\n",
    "Then we will loop through the list of adjectives,\n",
    "printing each on a new line.\n",
    "Each new line will be preceded by an extra space\n",
    "to create an interesting structure of whitespace.\n",
    "Then we will finish the sentence\n",
    "with a random selection of a noun and verb."
   ]
  },
  {
   "cell_type": "code",
   "execution_count": 2,
   "metadata": {},
   "outputs": [
    {
     "name": "stdout",
     "output_type": "stream",
     "text": [
      "The \n",
      " raucous\n",
      "  ancient\n",
      "   magical\n",
      "    playful\n",
      "     stealthy\n",
      "      scornful\n",
      "       sleepy\n",
      "        mechanical\n",
      "         giant\n",
      "          sparkling\n",
      "           arrogant\n",
      "alien roared.\n"
     ]
    }
   ],
   "source": [
    "# shuffle the list of adjectives\n",
    "random.shuffle(adjectives)\n",
    "\n",
    "# print the shuffled list of adjectives with increasing whitespace\n",
    "i = 0\n",
    "print \"The \"\n",
    "for adjective in adjectives:\n",
    "    i = i + 1\n",
    "    whitespace = \" \" * i\n",
    "    print whitespace + adjective\n",
    "\n",
    "# print the rest of the sentence\n",
    "print \"{noun} {verb}.\".format(noun=noun, verb=verb)"
   ]
  },
  {
   "cell_type": "markdown",
   "metadata": {},
   "source": [
    "## Towards a poem\n",
    "Now create your own, more poetic lists and sentence structure\n",
    "to write a generative poem!\n",
    "Diction, syntax, sentence structure, and whitespace\n",
    "are the basic building blocks of poetry.\n"
   ]
  },
  {
   "cell_type": "code",
   "execution_count": null,
   "metadata": {},
   "outputs": [],
   "source": []
  }
 ],
 "metadata": {
  "kernelspec": {
   "display_name": "Python 2",
   "language": "python",
   "name": "python2"
  },
  "language_info": {
   "codemirror_mode": {
    "name": "ipython",
    "version": 2
   },
   "file_extension": ".py",
   "mimetype": "text/x-python",
   "name": "python",
   "nbconvert_exporter": "python",
   "pygments_lexer": "ipython2",
   "version": "2.7.12"
  }
 },
 "nbformat": 4,
 "nbformat_minor": 2
}
